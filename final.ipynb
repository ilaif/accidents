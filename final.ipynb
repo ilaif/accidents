{
 "cells": [
  {
   "cell_type": "code",
   "execution_count": 2,
   "metadata": {},
   "outputs": [],
   "source": [
    "import os\n",
    "import os.path\n",
    "import pandas as pd\n",
    "import numpy as np\n",
    "import datetime\n",
    "import matplotlib\n",
    "import pickle\n",
    "import json\n",
    "import googlemaps\n",
    "import plotly\n",
    "import plotly.plotly as py\n",
    "from plotly.graph_objs import *\n",
    "import seaborn as sns\n",
    "from matplotlib import pyplot as plt\n",
    "\n",
    "from sklearn.metrics import accuracy_score\n",
    "from sklearn.model_selection import train_test_split\n",
    "from sklearn.preprocessing import OneHotEncoder\n",
    "from sklearn import preprocessing\n",
    "from sklearn.ensemble import RandomForestClassifier\n",
    "from sklearn.linear_model import LogisticRegression\n",
    "from sklearn.metrics import log_loss\n",
    "\n",
    "%matplotlib inline"
   ]
  },
  {
   "cell_type": "code",
   "execution_count": 3,
   "metadata": {},
   "outputs": [],
   "source": [
    "mapbox_access_token = open('../mapbox_token.txt', 'r').read()\n",
    "matplotlib.rcParams['figure.figsize'] = (14.0, 7.0)"
   ]
  },
  {
   "cell_type": "code",
   "execution_count": 4,
   "metadata": {},
   "outputs": [],
   "source": [
    "DATA_PATH = '/Users/ilaif/Desktop/data/avito'"
   ]
  },
  {
   "cell_type": "code",
   "execution_count": 5,
   "metadata": {},
   "outputs": [],
   "source": [
    "test = pd.read_csv(os.path.join(DATA_PATH, 'test.csv'), parse_dates=['activation_date'])"
   ]
  },
  {
   "cell_type": "code",
   "execution_count": 6,
   "metadata": {},
   "outputs": [],
   "source": [
    "train = pd.read_csv(os.path.join(DATA_PATH, 'train.csv'), parse_dates=['activation_date'])"
   ]
  },
  {
   "cell_type": "markdown",
   "metadata": {},
   "source": [
    "Let's look at the raw columns we have in train.csv:"
   ]
  },
  {
   "cell_type": "code",
   "execution_count": 7,
   "metadata": {},
   "outputs": [
    {
     "data": {
      "text/plain": [
       "Index(['item_id', 'user_id', 'region', 'city', 'parent_category_name',\n",
       "       'category_name', 'param_1', 'param_2', 'param_3', 'title',\n",
       "       'description', 'price', 'item_seq_number', 'activation_date',\n",
       "       'user_type', 'image', 'image_top_1', 'deal_probability'],\n",
       "      dtype='object')"
      ]
     },
     "execution_count": 7,
     "metadata": {},
     "output_type": "execute_result"
    }
   ],
   "source": [
    "train.columns"
   ]
  },
  {
   "cell_type": "markdown",
   "metadata": {},
   "source": [
    "## Feature enrichment"
   ]
  },
  {
   "cell_type": "markdown",
   "metadata": {},
   "source": [
    "### Datetime"
   ]
  },
  {
   "cell_type": "code",
   "execution_count": 8,
   "metadata": {},
   "outputs": [],
   "source": [
    "train['year'] = train['activation_date'].apply(lambda d: d.year)\n",
    "train['month'] = train['activation_date'].apply(lambda d: d.month)\n",
    "train['day'] = train['activation_date'].apply(lambda d: d.day)\n",
    "\n",
    "test['year'] = test['activation_date'].apply(lambda d: d.year)\n",
    "test['month'] = test['activation_date'].apply(lambda d: d.month)\n",
    "test['day'] = test['activation_date'].apply(lambda d: d.day)"
   ]
  },
  {
   "cell_type": "markdown",
   "metadata": {},
   "source": [
    "### Geocoding (adding lat, lng coordinates)"
   ]
  },
  {
   "cell_type": "code",
   "execution_count": 10,
   "metadata": {},
   "outputs": [],
   "source": [
    "cities_geo = json.load(open(os.path.join('helper_data', 'cities_geo.json'), 'r'))\n",
    "cities_geo_df = pd.DataFrame(cities_geo).transpose().reset_index()\n",
    "cities_geo_df.columns = ['city', 'lat', 'lng']\n",
    "train = train.merge(cities_geo_df, on='city')"
   ]
  },
  {
   "cell_type": "markdown",
   "metadata": {},
   "source": [
    "### Translation"
   ]
  },
  {
   "cell_type": "code",
   "execution_count": 12,
   "metadata": {},
   "outputs": [],
   "source": [
    "for col_name in ['parent_category_name', 'category_name', 'param_1', 'param_2', 'param_3']:\n",
    "    trans_dict = json.load(open(os.path.join('helper_data', col_name + '_en.json'), 'r'))\n",
    "    train[col_name + '_en'] = train[col_name].apply(lambda t: trans_dict[t] if not pd.isnull(t) else t)"
   ]
  },
  {
   "cell_type": "markdown",
   "metadata": {},
   "source": [
    "### Word Embedding"
   ]
  },
  {
   "cell_type": "markdown",
   "metadata": {},
   "source": [
    "We turn to use word embeddings to represent the \"params\" description. We've downloaded a ready-to-use russian word embeddings from \"Polyglot\":\n",
    "https://sites.google.com/site/rmyeid/projects/polyglot.\n",
    "Let's load those:"
   ]
  },
  {
   "cell_type": "code",
   "execution_count": 14,
   "metadata": {
    "hideCode": false,
    "hidePrompt": false
   },
   "outputs": [
    {
     "name": "stdout",
     "output_type": "stream",
     "text": [
      "Emebddings shape is (100004, 64)\n"
     ]
    }
   ],
   "source": [
    "with open(os.path.join('helper_data', 'polyglot-ru.pkl'), 'rb') as f:\n",
    "    u = pickle._Unpickler(f)\n",
    "    u.encoding = 'latin1'\n",
    "    words, embeddings = u.load()\n",
    "print(\"Emebddings shape is {}\".format(embeddings.shape))"
   ]
  },
  {
   "cell_type": "markdown",
   "metadata": {
    "hideCode": false,
    "hidePrompt": false
   },
   "source": [
    "Some othe Russian word2vec to explore later on:\n",
    "https://github.com/nlpub/russe-evaluation/tree/master/russe/measures/word2vec"
   ]
  },
  {
   "cell_type": "markdown",
   "metadata": {
    "hideCode": false,
    "hidePrompt": false
   },
   "source": [
    "Let's see how many of the (meaningful) words from params appear in the wrodEmbeddings dictionary.\n",
    "We first filter out Stopwords. We've examined 3 lists of stopwords:\n",
    "* https://gist.github.com/menzenski/7047705\n",
    "* https://www.ranks.nl/stopwords/russian\n",
    "* https://www.symantec.com/connect/downloads/russian-stop-words-list\n",
    "\n",
    "After consulting with our russian linguist, we've picked the third option because it had the least amount of words (the first two would filter out important semantic info)."
   ]
  },
  {
   "cell_type": "code",
   "execution_count": 15,
   "metadata": {},
   "outputs": [
    {
     "ename": "FileNotFoundError",
     "evalue": "[Errno 2] No such file or directory: '/Users/ilaif/Desktop/data/avito/helper_data/stopwords_ru.txt'",
     "output_type": "error",
     "traceback": [
      "\u001b[0;31m---------------------------------------------------------------------------\u001b[0m",
      "\u001b[0;31mFileNotFoundError\u001b[0m                         Traceback (most recent call last)",
      "\u001b[0;32m<ipython-input-15-7dfb52d632e8>\u001b[0m in \u001b[0;36m<module>\u001b[0;34m()\u001b[0m\n\u001b[1;32m      1\u001b[0m \u001b[0mstopwords\u001b[0m \u001b[0;34m=\u001b[0m \u001b[0mset\u001b[0m\u001b[0;34m(\u001b[0m\u001b[0;34m)\u001b[0m\u001b[0;34m\u001b[0m\u001b[0m\n\u001b[1;32m      2\u001b[0m \u001b[0;32mimport\u001b[0m \u001b[0mcodecs\u001b[0m\u001b[0;34m\u001b[0m\u001b[0m\n\u001b[0;32m----> 3\u001b[0;31m \u001b[0;32mwith\u001b[0m \u001b[0mcodecs\u001b[0m\u001b[0;34m.\u001b[0m\u001b[0mopen\u001b[0m\u001b[0;34m(\u001b[0m\u001b[0mos\u001b[0m\u001b[0;34m.\u001b[0m\u001b[0mpath\u001b[0m\u001b[0;34m.\u001b[0m\u001b[0mjoin\u001b[0m\u001b[0;34m(\u001b[0m\u001b[0mDATA_PATH\u001b[0m\u001b[0;34m,\u001b[0m \u001b[0;34m'helper_data'\u001b[0m\u001b[0;34m,\u001b[0m \u001b[0;34m'stopwords_ru.txt'\u001b[0m\u001b[0;34m)\u001b[0m\u001b[0;34m,\u001b[0m \u001b[0mencoding\u001b[0m\u001b[0;34m=\u001b[0m\u001b[0;34m'cp1251'\u001b[0m\u001b[0;34m)\u001b[0m \u001b[0;32mas\u001b[0m \u001b[0mins\u001b[0m\u001b[0;34m:\u001b[0m\u001b[0;34m\u001b[0m\u001b[0m\n\u001b[0m\u001b[1;32m      4\u001b[0m     \u001b[0;32mfor\u001b[0m \u001b[0mw\u001b[0m \u001b[0;32min\u001b[0m \u001b[0mins\u001b[0m\u001b[0;34m:\u001b[0m\u001b[0;34m\u001b[0m\u001b[0m\n\u001b[1;32m      5\u001b[0m         \u001b[0mword\u001b[0m \u001b[0;34m=\u001b[0m \u001b[0mw\u001b[0m\u001b[0;34m.\u001b[0m\u001b[0mstrip\u001b[0m\u001b[0;34m(\u001b[0m\u001b[0;34m\"\\r\\n\"\u001b[0m\u001b[0;34m)\u001b[0m\u001b[0;34m\u001b[0m\u001b[0m\n",
      "\u001b[0;32m~/.virtualenvs/ds/bin/../lib/python3.6/codecs.py\u001b[0m in \u001b[0;36mopen\u001b[0;34m(filename, mode, encoding, errors, buffering)\u001b[0m\n\u001b[1;32m    895\u001b[0m         \u001b[0;31m# Force opening of the file in binary mode\u001b[0m\u001b[0;34m\u001b[0m\u001b[0;34m\u001b[0m\u001b[0m\n\u001b[1;32m    896\u001b[0m         \u001b[0mmode\u001b[0m \u001b[0;34m=\u001b[0m \u001b[0mmode\u001b[0m \u001b[0;34m+\u001b[0m \u001b[0;34m'b'\u001b[0m\u001b[0;34m\u001b[0m\u001b[0m\n\u001b[0;32m--> 897\u001b[0;31m     \u001b[0mfile\u001b[0m \u001b[0;34m=\u001b[0m \u001b[0mbuiltins\u001b[0m\u001b[0;34m.\u001b[0m\u001b[0mopen\u001b[0m\u001b[0;34m(\u001b[0m\u001b[0mfilename\u001b[0m\u001b[0;34m,\u001b[0m \u001b[0mmode\u001b[0m\u001b[0;34m,\u001b[0m \u001b[0mbuffering\u001b[0m\u001b[0;34m)\u001b[0m\u001b[0;34m\u001b[0m\u001b[0m\n\u001b[0m\u001b[1;32m    898\u001b[0m     \u001b[0;32mif\u001b[0m \u001b[0mencoding\u001b[0m \u001b[0;32mis\u001b[0m \u001b[0;32mNone\u001b[0m\u001b[0;34m:\u001b[0m\u001b[0;34m\u001b[0m\u001b[0m\n\u001b[1;32m    899\u001b[0m         \u001b[0;32mreturn\u001b[0m \u001b[0mfile\u001b[0m\u001b[0;34m\u001b[0m\u001b[0m\n",
      "\u001b[0;31mFileNotFoundError\u001b[0m: [Errno 2] No such file or directory: '/Users/ilaif/Desktop/data/avito/helper_data/stopwords_ru.txt'"
     ]
    }
   ],
   "source": [
    "stopwords = set()\n",
    "import codecs\n",
    "with codecs.open(os.path.join(DATA_PATH, 'helper_data', 'stopwords_ru.txt'), encoding='cp1251') as ins:\n",
    "    for w in ins:\n",
    "        word = w.strip(\"\\r\\n\")\n",
    "        word = word.strip(\"\\n\")\n",
    "        stopwords.add(word)\n",
    "        stopwords.add(word.upper())\n",
    "        stopwords.add(word[0].upper() + word[1:])"
   ]
  },
  {
   "cell_type": "markdown",
   "metadata": {},
   "source": [
    "Now we proceed to check how many meaningful words appear in \"params\"."
   ]
  },
  {
   "cell_type": "code",
   "execution_count": 16,
   "metadata": {},
   "outputs": [
    {
     "name": "stdout",
     "output_type": "stream",
     "text": [
      "We sampled 10000 rows.\n",
      "8226 Have meaningful words in their params (That's 82.26 %).\n"
     ]
    }
   ],
   "source": [
    "# Returns true iff *any* word in sentense is present in words.\n",
    "def param_meaningfull_word_ratio(row):\n",
    "    sentence = \"\"\n",
    "    for att in [\"param_1\",\"param_2\",\"param_3\"]:\n",
    "        if not pd.isnull(row[att]):\n",
    "            sentence += row[att]\n",
    "        sentence += \" \"\n",
    "\n",
    "    count = 0\n",
    "    present = 0\n",
    "    for w in sentence.split():\n",
    "        count += 1\n",
    "        if (w in words) and (w not in stopwords):\n",
    "            present += 1\n",
    "    return present / float(count)\n",
    "\n",
    "# We sample 10,000 ads.\n",
    "N = 10000\n",
    "train_present_params = train[~(train[\"param_1\"].isnull() & train[\"param_2\"].isnull() & train[\"param_3\"].isnull())].sample(N)\n",
    "train_present_params['param_1_has_meaningful'] = train_present_params.apply(param_meaningfull_word_ratio, axis=1)\n",
    "print(\"We sampled\",N,\"rows.\")\n",
    "num_meaningful = len(train_present_params[train_present_params['param_1_has_meaningful'] > 0.0])\n",
    "print(num_meaningful,\"Have meaningful words in their params (That's\",num_meaningful/float(N)*100,\"%).\")"
   ]
  },
  {
   "cell_type": "markdown",
   "metadata": {},
   "source": [
    "TODO: reduce meaningful words that are \"close\" to each other to representatives (k means?)."
   ]
  },
  {
   "cell_type": "markdown",
   "metadata": {},
   "source": [
    "TODO: appen embeddings to train df."
   ]
  },
  {
   "cell_type": "markdown",
   "metadata": {},
   "source": [
    "TODO: append each embedded feature as a seperate col to train df."
   ]
  },
  {
   "cell_type": "markdown",
   "metadata": {},
   "source": [
    "### Text features"
   ]
  },
  {
   "cell_type": "code",
   "execution_count": 21,
   "metadata": {},
   "outputs": [],
   "source": [
    "train[\"description_len\"] = train['description'].apply(lambda s: len(s.split()) if type(s) == str else 0)"
   ]
  },
  {
   "cell_type": "markdown",
   "metadata": {},
   "source": [
    "## Data Exploration"
   ]
  },
  {
   "cell_type": "markdown",
   "metadata": {},
   "source": [
    "Let's see some data!"
   ]
  },
  {
   "cell_type": "code",
   "execution_count": 22,
   "metadata": {},
   "outputs": [
    {
     "data": {
      "text/html": [
       "<div>\n",
       "<style scoped>\n",
       "    .dataframe tbody tr th:only-of-type {\n",
       "        vertical-align: middle;\n",
       "    }\n",
       "\n",
       "    .dataframe tbody tr th {\n",
       "        vertical-align: top;\n",
       "    }\n",
       "\n",
       "    .dataframe thead th {\n",
       "        text-align: right;\n",
       "    }\n",
       "</style>\n",
       "<table border=\"1\" class=\"dataframe\">\n",
       "  <thead>\n",
       "    <tr style=\"text-align: right;\">\n",
       "      <th></th>\n",
       "      <th>item_id</th>\n",
       "      <th>user_id</th>\n",
       "      <th>region</th>\n",
       "      <th>city</th>\n",
       "      <th>parent_category_name</th>\n",
       "      <th>category_name</th>\n",
       "      <th>param_1</th>\n",
       "      <th>param_2</th>\n",
       "      <th>param_3</th>\n",
       "      <th>title</th>\n",
       "      <th>...</th>\n",
       "      <th>month</th>\n",
       "      <th>day</th>\n",
       "      <th>lat</th>\n",
       "      <th>lng</th>\n",
       "      <th>parent_category_name_en</th>\n",
       "      <th>category_name_en</th>\n",
       "      <th>param_1_en</th>\n",
       "      <th>param_2_en</th>\n",
       "      <th>param_3_en</th>\n",
       "      <th>description_len</th>\n",
       "    </tr>\n",
       "  </thead>\n",
       "  <tbody>\n",
       "    <tr>\n",
       "      <th>0</th>\n",
       "      <td>b912c3c6a6ad</td>\n",
       "      <td>e00f8ff2eaf9</td>\n",
       "      <td>Свердловская область</td>\n",
       "      <td>Екатеринбург</td>\n",
       "      <td>Личные вещи</td>\n",
       "      <td>Товары для детей и игрушки</td>\n",
       "      <td>Постельные принадлежности</td>\n",
       "      <td>NaN</td>\n",
       "      <td>NaN</td>\n",
       "      <td>Кокоби(кокон для сна)</td>\n",
       "      <td>...</td>\n",
       "      <td>3</td>\n",
       "      <td>28</td>\n",
       "      <td>56.8389</td>\n",
       "      <td>60.6057</td>\n",
       "      <td>Personal things</td>\n",
       "      <td>Goods for children and toys</td>\n",
       "      <td>Bed dress</td>\n",
       "      <td>NaN</td>\n",
       "      <td>NaN</td>\n",
       "      <td>7</td>\n",
       "    </tr>\n",
       "    <tr>\n",
       "      <th>1</th>\n",
       "      <td>838a82cec0a6</td>\n",
       "      <td>5d44315f6d90</td>\n",
       "      <td>Свердловская область</td>\n",
       "      <td>Екатеринбург</td>\n",
       "      <td>Личные вещи</td>\n",
       "      <td>Одежда, обувь, аксессуары</td>\n",
       "      <td>Женская одежда</td>\n",
       "      <td>Верхняя одежда</td>\n",
       "      <td>&gt; 50 (XXL)</td>\n",
       "      <td>Шапка норковая</td>\n",
       "      <td>...</td>\n",
       "      <td>3</td>\n",
       "      <td>16</td>\n",
       "      <td>56.8389</td>\n",
       "      <td>60.6057</td>\n",
       "      <td>Personal things</td>\n",
       "      <td>Clothes, shoes, accessories</td>\n",
       "      <td>Women&amp;#39;s clothing</td>\n",
       "      <td>Outerwear</td>\n",
       "      <td>&amp;gt; 50 (XXL)</td>\n",
       "      <td>17</td>\n",
       "    </tr>\n",
       "    <tr>\n",
       "      <th>2</th>\n",
       "      <td>161a8d6b87b5</td>\n",
       "      <td>43e3aa5b47ee</td>\n",
       "      <td>Свердловская область</td>\n",
       "      <td>Екатеринбург</td>\n",
       "      <td>Личные вещи</td>\n",
       "      <td>Часы и украшения</td>\n",
       "      <td>Ювелирные изделия</td>\n",
       "      <td>NaN</td>\n",
       "      <td>NaN</td>\n",
       "      <td>Золото 585(лом)</td>\n",
       "      <td>...</td>\n",
       "      <td>3</td>\n",
       "      <td>27</td>\n",
       "      <td>56.8389</td>\n",
       "      <td>60.6057</td>\n",
       "      <td>Personal things</td>\n",
       "      <td>Watches &amp;amp; Jewelry</td>\n",
       "      <td>Jewelry</td>\n",
       "      <td>NaN</td>\n",
       "      <td>NaN</td>\n",
       "      <td>4</td>\n",
       "    </tr>\n",
       "    <tr>\n",
       "      <th>3</th>\n",
       "      <td>601e7b35dfed</td>\n",
       "      <td>7ae3266c2538</td>\n",
       "      <td>Свердловская область</td>\n",
       "      <td>Екатеринбург</td>\n",
       "      <td>Личные вещи</td>\n",
       "      <td>Детская одежда и обувь</td>\n",
       "      <td>Для девочек</td>\n",
       "      <td>Верхняя одежда</td>\n",
       "      <td>122-128 см (6-8 лет)</td>\n",
       "      <td>Продам куртку Marc 'O Polo</td>\n",
       "      <td>...</td>\n",
       "      <td>3</td>\n",
       "      <td>21</td>\n",
       "      <td>56.8389</td>\n",
       "      <td>60.6057</td>\n",
       "      <td>Personal things</td>\n",
       "      <td>Children&amp;#39;s clothing and footwear</td>\n",
       "      <td>For girls</td>\n",
       "      <td>Outerwear</td>\n",
       "      <td>122-128 cm (6-8 years)</td>\n",
       "      <td>3</td>\n",
       "    </tr>\n",
       "    <tr>\n",
       "      <th>4</th>\n",
       "      <td>1ce37a04b861</td>\n",
       "      <td>16d27a450d50</td>\n",
       "      <td>Свердловская область</td>\n",
       "      <td>Екатеринбург</td>\n",
       "      <td>Для дома и дачи</td>\n",
       "      <td>Бытовая техника</td>\n",
       "      <td>Для дома</td>\n",
       "      <td>Стиральные машины</td>\n",
       "      <td>NaN</td>\n",
       "      <td>Стиральная машина LG,5 кг., гарантия</td>\n",
       "      <td>...</td>\n",
       "      <td>3</td>\n",
       "      <td>17</td>\n",
       "      <td>56.8389</td>\n",
       "      <td>60.6057</td>\n",
       "      <td>For home and cottages</td>\n",
       "      <td>Appliances</td>\n",
       "      <td>For home</td>\n",
       "      <td>Washing machines</td>\n",
       "      <td>NaN</td>\n",
       "      <td>50</td>\n",
       "    </tr>\n",
       "    <tr>\n",
       "      <th>5</th>\n",
       "      <td>1759e0208e02</td>\n",
       "      <td>42679c942594</td>\n",
       "      <td>Свердловская область</td>\n",
       "      <td>Екатеринбург</td>\n",
       "      <td>Недвижимость</td>\n",
       "      <td>Дома, дачи, коттеджи</td>\n",
       "      <td>Продам</td>\n",
       "      <td>Дача</td>\n",
       "      <td>NaN</td>\n",
       "      <td>Дача 20 м² на участке 10 сот.</td>\n",
       "      <td>...</td>\n",
       "      <td>3</td>\n",
       "      <td>18</td>\n",
       "      <td>56.8389</td>\n",
       "      <td>60.6057</td>\n",
       "      <td>The property</td>\n",
       "      <td>Houses, cottages, cottages</td>\n",
       "      <td>Selling</td>\n",
       "      <td>Country house</td>\n",
       "      <td>NaN</td>\n",
       "      <td>70</td>\n",
       "    </tr>\n",
       "    <tr>\n",
       "      <th>6</th>\n",
       "      <td>db89df39cc0a</td>\n",
       "      <td>3c7f89780118</td>\n",
       "      <td>Свердловская область</td>\n",
       "      <td>Екатеринбург</td>\n",
       "      <td>Личные вещи</td>\n",
       "      <td>Одежда, обувь, аксессуары</td>\n",
       "      <td>Аксессуары</td>\n",
       "      <td>NaN</td>\n",
       "      <td>NaN</td>\n",
       "      <td>Фурнитура</td>\n",
       "      <td>...</td>\n",
       "      <td>3</td>\n",
       "      <td>26</td>\n",
       "      <td>56.8389</td>\n",
       "      <td>60.6057</td>\n",
       "      <td>Personal things</td>\n",
       "      <td>Clothes, shoes, accessories</td>\n",
       "      <td>Accessories</td>\n",
       "      <td>NaN</td>\n",
       "      <td>NaN</td>\n",
       "      <td>3</td>\n",
       "    </tr>\n",
       "    <tr>\n",
       "      <th>7</th>\n",
       "      <td>372778d7a7dd</td>\n",
       "      <td>b0b823fa1148</td>\n",
       "      <td>Свердловская область</td>\n",
       "      <td>Екатеринбург</td>\n",
       "      <td>Личные вещи</td>\n",
       "      <td>Одежда, обувь, аксессуары</td>\n",
       "      <td>Женская одежда</td>\n",
       "      <td>Брюки</td>\n",
       "      <td>Без размера</td>\n",
       "      <td>Новые леггинцы Livia Co Польша</td>\n",
       "      <td>...</td>\n",
       "      <td>3</td>\n",
       "      <td>18</td>\n",
       "      <td>56.8389</td>\n",
       "      <td>60.6057</td>\n",
       "      <td>Personal things</td>\n",
       "      <td>Clothes, shoes, accessories</td>\n",
       "      <td>Women&amp;#39;s clothing</td>\n",
       "      <td>Pants</td>\n",
       "      <td>Without size</td>\n",
       "      <td>6</td>\n",
       "    </tr>\n",
       "    <tr>\n",
       "      <th>8</th>\n",
       "      <td>a9944f63fa64</td>\n",
       "      <td>96a5497489a6</td>\n",
       "      <td>Свердловская область</td>\n",
       "      <td>Екатеринбург</td>\n",
       "      <td>Для дома и дачи</td>\n",
       "      <td>Ремонт и строительство</td>\n",
       "      <td>Потолки</td>\n",
       "      <td>NaN</td>\n",
       "      <td>NaN</td>\n",
       "      <td>Потолок подвесной armstrong accord 60x60</td>\n",
       "      <td>...</td>\n",
       "      <td>3</td>\n",
       "      <td>19</td>\n",
       "      <td>56.8389</td>\n",
       "      <td>60.6057</td>\n",
       "      <td>For home and cottages</td>\n",
       "      <td>Repair and construction</td>\n",
       "      <td>Ceilings</td>\n",
       "      <td>NaN</td>\n",
       "      <td>NaN</td>\n",
       "      <td>68</td>\n",
       "    </tr>\n",
       "    <tr>\n",
       "      <th>9</th>\n",
       "      <td>f503c2a82b0d</td>\n",
       "      <td>1ddc1058dd28</td>\n",
       "      <td>Свердловская область</td>\n",
       "      <td>Екатеринбург</td>\n",
       "      <td>Хобби и отдых</td>\n",
       "      <td>Билеты и путешествия</td>\n",
       "      <td>Путешествия</td>\n",
       "      <td>NaN</td>\n",
       "      <td>NaN</td>\n",
       "      <td>Горящий Китай, о.Хайнань 9 ночей 4-5 звезд</td>\n",
       "      <td>...</td>\n",
       "      <td>3</td>\n",
       "      <td>17</td>\n",
       "      <td>56.8389</td>\n",
       "      <td>60.6057</td>\n",
       "      <td>Hobbies and Recreation</td>\n",
       "      <td>Tickets and travel</td>\n",
       "      <td>Travels</td>\n",
       "      <td>NaN</td>\n",
       "      <td>NaN</td>\n",
       "      <td>58</td>\n",
       "    </tr>\n",
       "  </tbody>\n",
       "</table>\n",
       "<p>10 rows × 29 columns</p>\n",
       "</div>"
      ],
      "text/plain": [
       "        item_id       user_id                region          city  \\\n",
       "0  b912c3c6a6ad  e00f8ff2eaf9  Свердловская область  Екатеринбург   \n",
       "1  838a82cec0a6  5d44315f6d90  Свердловская область  Екатеринбург   \n",
       "2  161a8d6b87b5  43e3aa5b47ee  Свердловская область  Екатеринбург   \n",
       "3  601e7b35dfed  7ae3266c2538  Свердловская область  Екатеринбург   \n",
       "4  1ce37a04b861  16d27a450d50  Свердловская область  Екатеринбург   \n",
       "5  1759e0208e02  42679c942594  Свердловская область  Екатеринбург   \n",
       "6  db89df39cc0a  3c7f89780118  Свердловская область  Екатеринбург   \n",
       "7  372778d7a7dd  b0b823fa1148  Свердловская область  Екатеринбург   \n",
       "8  a9944f63fa64  96a5497489a6  Свердловская область  Екатеринбург   \n",
       "9  f503c2a82b0d  1ddc1058dd28  Свердловская область  Екатеринбург   \n",
       "\n",
       "  parent_category_name               category_name                    param_1  \\\n",
       "0          Личные вещи  Товары для детей и игрушки  Постельные принадлежности   \n",
       "1          Личные вещи   Одежда, обувь, аксессуары             Женская одежда   \n",
       "2          Личные вещи            Часы и украшения          Ювелирные изделия   \n",
       "3          Личные вещи      Детская одежда и обувь                Для девочек   \n",
       "4      Для дома и дачи             Бытовая техника                   Для дома   \n",
       "5         Недвижимость        Дома, дачи, коттеджи                     Продам   \n",
       "6          Личные вещи   Одежда, обувь, аксессуары                 Аксессуары   \n",
       "7          Личные вещи   Одежда, обувь, аксессуары             Женская одежда   \n",
       "8      Для дома и дачи      Ремонт и строительство                    Потолки   \n",
       "9        Хобби и отдых        Билеты и путешествия                Путешествия   \n",
       "\n",
       "             param_2               param_3  \\\n",
       "0                NaN                   NaN   \n",
       "1     Верхняя одежда            > 50 (XXL)   \n",
       "2                NaN                   NaN   \n",
       "3     Верхняя одежда  122-128 см (6-8 лет)   \n",
       "4  Стиральные машины                   NaN   \n",
       "5               Дача                   NaN   \n",
       "6                NaN                   NaN   \n",
       "7              Брюки           Без размера   \n",
       "8                NaN                   NaN   \n",
       "9                NaN                   NaN   \n",
       "\n",
       "                                        title       ...        month  day  \\\n",
       "0                       Кокоби(кокон для сна)       ...            3   28   \n",
       "1                              Шапка норковая       ...            3   16   \n",
       "2                             Золото 585(лом)       ...            3   27   \n",
       "3                  Продам куртку Marc 'O Polo       ...            3   21   \n",
       "4        Стиральная машина LG,5 кг., гарантия       ...            3   17   \n",
       "5               Дача 20 м² на участке 10 сот.       ...            3   18   \n",
       "6                                   Фурнитура       ...            3   26   \n",
       "7              Новые леггинцы Livia Co Польша       ...            3   18   \n",
       "8    Потолок подвесной armstrong accord 60x60       ...            3   19   \n",
       "9  Горящий Китай, о.Хайнань 9 ночей 4-5 звезд       ...            3   17   \n",
       "\n",
       "       lat      lng parent_category_name_en  \\\n",
       "0  56.8389  60.6057         Personal things   \n",
       "1  56.8389  60.6057         Personal things   \n",
       "2  56.8389  60.6057         Personal things   \n",
       "3  56.8389  60.6057         Personal things   \n",
       "4  56.8389  60.6057   For home and cottages   \n",
       "5  56.8389  60.6057            The property   \n",
       "6  56.8389  60.6057         Personal things   \n",
       "7  56.8389  60.6057         Personal things   \n",
       "8  56.8389  60.6057   For home and cottages   \n",
       "9  56.8389  60.6057  Hobbies and Recreation   \n",
       "\n",
       "                       category_name_en            param_1_en  \\\n",
       "0           Goods for children and toys             Bed dress   \n",
       "1           Clothes, shoes, accessories  Women&#39;s clothing   \n",
       "2                 Watches &amp; Jewelry               Jewelry   \n",
       "3  Children&#39;s clothing and footwear             For girls   \n",
       "4                            Appliances              For home   \n",
       "5            Houses, cottages, cottages               Selling   \n",
       "6           Clothes, shoes, accessories           Accessories   \n",
       "7           Clothes, shoes, accessories  Women&#39;s clothing   \n",
       "8               Repair and construction              Ceilings   \n",
       "9                    Tickets and travel               Travels   \n",
       "\n",
       "         param_2_en              param_3_en  description_len  \n",
       "0               NaN                     NaN                7  \n",
       "1         Outerwear           &gt; 50 (XXL)               17  \n",
       "2               NaN                     NaN                4  \n",
       "3         Outerwear  122-128 cm (6-8 years)                3  \n",
       "4  Washing machines                     NaN               50  \n",
       "5     Country house                     NaN               70  \n",
       "6               NaN                     NaN                3  \n",
       "7             Pants            Without size                6  \n",
       "8               NaN                     NaN               68  \n",
       "9               NaN                     NaN               58  \n",
       "\n",
       "[10 rows x 29 columns]"
      ]
     },
     "execution_count": 22,
     "metadata": {},
     "output_type": "execute_result"
    }
   ],
   "source": [
    "train.head(10)"
   ]
  },
  {
   "cell_type": "markdown",
   "metadata": {},
   "source": [
    "### Feature correlation"
   ]
  },
  {
   "cell_type": "code",
   "execution_count": 23,
   "metadata": {},
   "outputs": [],
   "source": [
    "#TODO: Doesn't say anything"
   ]
  },
  {
   "cell_type": "code",
   "execution_count": 24,
   "metadata": {},
   "outputs": [
    {
     "data": {
      "text/plain": [
       "<matplotlib.axes._subplots.AxesSubplot at 0x1190ba320>"
      ]
     },
     "execution_count": 24,
     "metadata": {},
     "output_type": "execute_result"
    },
    {
     "data": {
      "image/png": "[encoded data removed]",
      "text/plain": [
       "<Figure size 1008x504 with 2 Axes>"
      ]
     },
     "metadata": {},
     "output_type": "display_data"
    }
   ],
   "source": [
    "corr = train.corr()\n",
    "sns.heatmap(corr, xticklabels=corr.columns, yticklabels=corr.columns)"
   ]
  },
  {
   "cell_type": "markdown",
   "metadata": {},
   "source": [
    "### Categories"
   ]
  },
  {
   "cell_type": "markdown",
   "metadata": {
    "hideCode": false,
    "hidePrompt": false
   },
   "source": [
    "How many unique categories and parent categories do we have?"
   ]
  },
  {
   "cell_type": "code",
   "execution_count": 25,
   "metadata": {
    "hideCode": false,
    "hidePrompt": false
   },
   "outputs": [
    {
     "name": "stdout",
     "output_type": "stream",
     "text": [
      "Num of parent categories:  9\n",
      "Num of categories:  47\n"
     ]
    }
   ],
   "source": [
    "print (\"Num of parent categories: \",len(train[\"parent_category_name\"].unique()))\n",
    "print (\"Num of categories: \",len(train[\"category_name\"].unique()))"
   ]
  },
  {
   "cell_type": "markdown",
   "metadata": {},
   "source": [
    "How many unique (distinct) \"param\"s we have?"
   ]
  },
  {
   "cell_type": "code",
   "execution_count": 26,
   "metadata": {
    "scrolled": true
   },
   "outputs": [
    {
     "name": "stdout",
     "output_type": "stream",
     "text": [
      "Num of distinct params:  1841\n"
     ]
    }
   ],
   "source": [
    "print(\"Num of distinct params: \"\n",
    "      ,len(set(train[\"param_1\"].tolist()) | set(train[\"param_2\"].tolist()) | set(train[\"param_3\"].tolist())))"
   ]
  },
  {
   "cell_type": "markdown",
   "metadata": {},
   "source": [
    "Nice. We think that combining those with the \"params\" attributes can generate the most informative features about of the data. But in order to engeneer those, we need to \"categorize\" it somehow. Lets see how many ads do not have any param mentioned within it."
   ]
  },
  {
   "cell_type": "code",
   "execution_count": 27,
   "metadata": {
    "hideCode": false,
    "hidePrompt": false
   },
   "outputs": [
    {
     "name": "stdout",
     "output_type": "stream",
     "text": [
      "Absent params: 61576\n",
      "Total ads: 1503424\n",
      "ration of ads with no params at all: 0.0409571750883317\n"
     ]
    }
   ],
   "source": [
    "ads_with_absent_params = len(train[train[\"param_1\"].isnull() & train[\"param_2\"].isnull() & train[\"param_3\"].isnull()])\n",
    "total_ads = train.shape[0]\n",
    "print (\"Absent params:\",ads_with_absent_params)\n",
    "print (\"Total ads:\",total_ads)\n",
    "print (\"ration of ads with no params at all:\",ads_with_absent_params / float(total_ads))"
   ]
  },
  {
   "cell_type": "code",
   "execution_count": null,
   "metadata": {},
   "outputs": [],
   "source": []
  },
  {
   "cell_type": "markdown",
   "metadata": {},
   "source": [
    "### What are the user types?"
   ]
  },
  {
   "cell_type": "code",
   "execution_count": 28,
   "metadata": {},
   "outputs": [],
   "source": [
    "user_type_dist = train.groupby('user_type').size()"
   ]
  },
  {
   "cell_type": "code",
   "execution_count": 29,
   "metadata": {},
   "outputs": [
    {
     "data": {
      "image/png": "[encoded data removed]",
      "text/plain": [
       "<Figure size 1008x504 with 1 Axes>"
      ]
     },
     "metadata": {},
     "output_type": "display_data"
    }
   ],
   "source": [
    "explode = (0.15, 0, 0)\n",
    "colors = ['#ff9999','#66b3ff','#99ff99','#ffcc99']\n",
    "labels = user_type_dist.index\n",
    "fig1, ax1 = plt.subplots()\n",
    "ax1.pie(user_type_dist, explode=explode, labels=labels, colors=colors, autopct='%1.1f%%', shadow=True, startangle=90)\n",
    "ax1.axis('equal')\n",
    "plt.tight_layout()\n",
    "plt.show()"
   ]
  },
  {
   "cell_type": "code",
   "execution_count": 30,
   "metadata": {},
   "outputs": [
    {
     "data": {
      "text/plain": [
       "142941"
      ]
     },
     "execution_count": 30,
     "metadata": {},
     "output_type": "execute_result"
    }
   ],
   "source": [
    "train[train['user_type'] == 'Company']['user_id'].nunique()"
   ]
  },
  {
   "cell_type": "code",
   "execution_count": 31,
   "metadata": {},
   "outputs": [
    {
     "data": {
      "text/plain": [
       "142941"
      ]
     },
     "execution_count": 31,
     "metadata": {},
     "output_type": "execute_result"
    }
   ],
   "source": [
    "train[train['user_type'] == 'Company']['user_id'].nunique()"
   ]
  },
  {
   "cell_type": "code",
   "execution_count": 32,
   "metadata": {},
   "outputs": [
    {
     "data": {
      "text/plain": [
       "142941"
      ]
     },
     "execution_count": 32,
     "metadata": {},
     "output_type": "execute_result"
    }
   ],
   "source": [
    "train[train['user_type'] == 'Company']['user_id'].nunique()"
   ]
  },
  {
   "cell_type": "code",
   "execution_count": 33,
   "metadata": {},
   "outputs": [],
   "source": [
    "company_users_frequency = train[train['user_type'] == 'Company'].groupby('user_id')['item_id'].nunique()"
   ]
  },
  {
   "cell_type": "code",
   "execution_count": 34,
   "metadata": {},
   "outputs": [
    {
     "data": {
      "text/plain": [
       "user_id\n",
       "abcdd1ca1a5c    807\n",
       "b5003ea27e7a    684\n",
       "2cd9f03d6527    657\n",
       "33d09dfdbd90    523\n",
       "41f112adb74b    512\n",
       "762434c0fd7e    382\n",
       "743f3355d84a    370\n",
       "c2920abccec4    363\n",
       "9bdc2002bf51    360\n",
       "1e19ac0f143f    354\n",
       "Name: item_id, dtype: int64"
      ]
     },
     "execution_count": 34,
     "metadata": {},
     "output_type": "execute_result"
    }
   ],
   "source": [
    "company_users_frequency.sort_values(ascending=False).head(10)"
   ]
  },
  {
   "cell_type": "code",
   "execution_count": 35,
   "metadata": {},
   "outputs": [
    {
     "data": {
      "text/plain": [
       "<matplotlib.axes._subplots.AxesSubplot at 0x118c644e0>"
      ]
     },
     "execution_count": 35,
     "metadata": {},
     "output_type": "execute_result"
    },
    {
     "data": {
      "image/png": "[encoded data removed]",
      "text/plain": [
       "<Figure size 1008x504 with 1 Axes>"
      ]
     },
     "metadata": {},
     "output_type": "display_data"
    }
   ],
   "source": [
    "company_users_frequency.hist(bins=1000)"
   ]
  },
  {
   "cell_type": "markdown",
   "metadata": {},
   "source": [
    "### How are the items distributed over cities?"
   ]
  },
  {
   "cell_type": "code",
   "execution_count": 36,
   "metadata": {},
   "outputs": [],
   "source": [
    "site_lat = cities_geo_df.lat\n",
    "site_lng = cities_geo_df.lng\n",
    "locations_name = cities_geo_df.city"
   ]
  },
  {
   "cell_type": "code",
   "execution_count": 41,
   "metadata": {},
   "outputs": [
    {
     "data": {
      "text/html": [
       "<iframe id=\"igraph\" scrolling=\"no\" style=\"border:none;\" seamless=\"seamless\" src=\"https://plot.ly/~ilaif/13.embed\" height=\"525px\" width=\"100%\"></iframe>"
      ],
      "text/plain": [
       "<plotly.tools.PlotlyDisplay object>"
      ]
     },
     "execution_count": 41,
     "metadata": {},
     "output_type": "execute_result"
    }
   ],
   "source": [
    "data = Data([\n",
    "    Scattermapbox(\n",
    "        lat=site_lat,\n",
    "        lon=site_lng,\n",
    "        mode='markers',\n",
    "        marker=Marker(size=17, color='rgb(255, 0, 0)', opacity=0.7),\n",
    "        text=locations_name,\n",
    "        hoverinfo='text'\n",
    "    ),\n",
    "    Scattermapbox(\n",
    "        lat=site_lat,\n",
    "        lon=site_lng,\n",
    "        mode='markers',\n",
    "        marker=Marker(size=8, color='rgb(242, 177, 172)', opacity=0.7),\n",
    "        hoverinfo='none'\n",
    "    )]\n",
    ")\n",
    "        \n",
    "layout = Layout(\n",
    "    title='Cities that items are posted at',\n",
    "    autosize=True,\n",
    "    hovermode='closest',\n",
    "    showlegend=False,\n",
    "    mapbox=dict(accesstoken=mapbox_access_token, bearing=0, center=dict(lat=53, lon=40), pitch=0, zoom=3, style='light'),\n",
    ")\n",
    "\n",
    "fig = dict(data=data, layout=layout)\n",
    "\n",
    "py.iplot(fig)"
   ]
  },
  {
   "cell_type": "markdown",
   "metadata": {},
   "source": [
    "### Distribution of items by category"
   ]
  },
  {
   "cell_type": "code",
   "execution_count": 42,
   "metadata": {},
   "outputs": [
    {
     "data": {
      "text/plain": [
       "<BarContainer object of 47 artists>"
      ]
     },
     "execution_count": 42,
     "metadata": {},
     "output_type": "execute_result"
    },
    {
     "data": {
      "image/png": "[encoded data removed]",
      "text/plain": [
       "<Figure size 1008x504 with 1 Axes>"
      ]
     },
     "metadata": {},
     "output_type": "display_data"
    }
   ],
   "source": [
    "category_counts = train.groupby('category_name_en')['item_id'].count().sort_values(ascending=False)\n",
    "plt.xticks(rotation=90)\n",
    "plt.bar(category_counts.index, category_counts.values)"
   ]
  },
  {
   "cell_type": "code",
   "execution_count": 43,
   "metadata": {},
   "outputs": [
    {
     "data": {
      "text/plain": [
       "<BarContainer object of 9 artists>"
      ]
     },
     "execution_count": 43,
     "metadata": {},
     "output_type": "execute_result"
    },
    {
     "data": {
      "image/png": "[encoded data removed]",
      "text/plain": [
       "<Figure size 1008x504 with 1 Axes>"
      ]
     },
     "metadata": {},
     "output_type": "display_data"
    }
   ],
   "source": [
    "parent_category_counts = train.groupby('parent_category_name_en')['item_id'].count().sort_values(ascending=False)\n",
    "plt.xticks(rotation=45)\n",
    "plt.bar(parent_category_counts.index, parent_category_counts.values)"
   ]
  },
  {
   "cell_type": "markdown",
   "metadata": {},
   "source": [
    "## Feature Engineering"
   ]
  },
  {
   "cell_type": "markdown",
   "metadata": {},
   "source": [
    "We'll try to label categories and run some out of the box algorithms and see the result:"
   ]
  },
  {
   "cell_type": "code",
   "execution_count": 54,
   "metadata": {},
   "outputs": [
    {
     "data": {
      "text/plain": [
       "Index(['item_id', 'user_id', 'region', 'city', 'parent_category_name',\n",
       "       'category_name', 'param_1', 'param_2', 'param_3', 'title',\n",
       "       'description', 'price', 'item_seq_number', 'activation_date',\n",
       "       'user_type', 'image', 'image_top_1', 'deal_probability', 'year',\n",
       "       'month', 'day', 'lat', 'lng', 'parent_category_name_en',\n",
       "       'category_name_en', 'param_1_en', 'param_2_en', 'param_3_en',\n",
       "       'description_len'],\n",
       "      dtype='object')"
      ]
     },
     "execution_count": 54,
     "metadata": {},
     "output_type": "execute_result"
    }
   ],
   "source": [
    "train.columns"
   ]
  },
  {
   "cell_type": "markdown",
   "metadata": {},
   "source": [
    "We will turn the predictions to 11 buckets:"
   ]
  },
  {
   "cell_type": "code",
   "execution_count": 55,
   "metadata": {},
   "outputs": [],
   "source": [
    "def separate_to_bins(prob):\n",
    "    return int(prob * 100 / 10)"
   ]
  },
  {
   "cell_type": "code",
   "execution_count": 64,
   "metadata": {},
   "outputs": [],
   "source": [
    "train_num = 100000\n",
    "features_data_df = train[['user_id', 'region', 'city', 'parent_category_name', 'category_name', 'item_seq_number', 'month']]\n",
    "y_df = train['deal_probability']\n",
    "X = pd.DataFrame(features_data_df[:train_num]).fillna(0).values\n",
    "y = pd.DataFrame(y_df[:train_num]).apply(separate_to_bins, axis=1).values\n",
    "X_train, X_test, y_train, y_test = train_test_split(X, y, test_size=0.25, random_state=42)\n",
    "X_train = pd.DataFrame(X_train).values\n",
    "X_test = pd.DataFrame(X_test).values\n",
    "y_train = pd.DataFrame(y_train).values\n",
    "y_test = pd.DataFrame(y_test).values"
   ]
  },
  {
   "cell_type": "code",
   "execution_count": 65,
   "metadata": {},
   "outputs": [],
   "source": [
    "l = LogisticRegression()\n",
    "r = RandomForestClassifier(n_estimators=25, max_depth=10)\n",
    "\n",
    "les = []\n",
    "for i in range(X.shape[1]):\n",
    "    le = preprocessing.LabelEncoder()\n",
    "    le.fit(X[:, i])\n",
    "    les.append(le)\n",
    "    X_train[:, i] = le.transform(X_train[:, i])\n",
    "    X_test[:, i] = le.transform(X_test[:, i])"
   ]
  },
  {
   "cell_type": "markdown",
   "metadata": {},
   "source": [
    "Naive random prediction:"
   ]
  },
  {
   "cell_type": "code",
   "execution_count": 66,
   "metadata": {},
   "outputs": [
    {
     "data": {
      "text/plain": [
       "0.74028"
      ]
     },
     "execution_count": 66,
     "metadata": {},
     "output_type": "execute_result"
    }
   ],
   "source": [
    "y_pred = np.random.randint(1, size=y_test.shape[0])\n",
    "accuracy_score(y_test, y_pred)"
   ]
  },
  {
   "cell_type": "code",
   "execution_count": 67,
   "metadata": {},
   "outputs": [],
   "source": [
    "l.fit(X_train, np.ravel(y_train))\n",
    "y_pred = l.predict_proba(X_test)\n",
    "#print(log_loss(y_test,y_pred, labels=range(10)))"
   ]
  },
  {
   "cell_type": "code",
   "execution_count": 68,
   "metadata": {},
   "outputs": [
    {
     "data": {
      "text/plain": [
       "0.74028"
      ]
     },
     "execution_count": 68,
     "metadata": {},
     "output_type": "execute_result"
    }
   ],
   "source": [
    "accuracy_score(y_test, l.predict(X_test))"
   ]
  },
  {
   "cell_type": "code",
   "execution_count": 69,
   "metadata": {},
   "outputs": [],
   "source": [
    "r.fit(X_train, np.ravel(y_train))\n",
    "y_pred = r.predict_proba(X_test)\n",
    "#print(log_loss(y_test, y_pred, labels=range(10)))"
   ]
  },
  {
   "cell_type": "code",
   "execution_count": 70,
   "metadata": {},
   "outputs": [
    {
     "data": {
      "text/plain": [
       "0.73952"
      ]
     },
     "execution_count": 70,
     "metadata": {},
     "output_type": "execute_result"
    }
   ],
   "source": [
    "accuracy_score(y_test, r.predict(X_test))"
   ]
  },
  {
   "cell_type": "markdown",
   "metadata": {},
   "source": [
    "#TODO:"
   ]
  },
  {
   "cell_type": "code",
   "execution_count": 63,
   "metadata": {},
   "outputs": [
    {
     "name": "stderr",
     "output_type": "stream",
     "text": [
      "/Users/ilaif/.virtualenvs/ds/lib/python3.6/site-packages/sklearn/utils/validation.py:578: DataConversionWarning:\n",
      "\n",
      "A column-vector y was passed when a 1d array was expected. Please change the shape of y to (n_samples, ), for example using ravel().\n",
      "\n"
     ]
    },
    {
     "ename": "ValueError",
     "evalue": "Found input variables with inconsistent numbers of samples: [7500, 2500]",
     "output_type": "error",
     "traceback": [
      "\u001b[0;31m---------------------------------------------------------------------------\u001b[0m",
      "\u001b[0;31mValueError\u001b[0m                                Traceback (most recent call last)",
      "\u001b[0;32m<ipython-input-63-063b2fbbd434>\u001b[0m in \u001b[0;36m<module>\u001b[0;34m()\u001b[0m\n\u001b[1;32m      5\u001b[0m \u001b[0ml\u001b[0m\u001b[0;34m.\u001b[0m\u001b[0mfit\u001b[0m\u001b[0;34m(\u001b[0m\u001b[0mX_train_one_hot\u001b[0m\u001b[0;34m,\u001b[0m \u001b[0my_train\u001b[0m\u001b[0;34m)\u001b[0m\u001b[0;34m\u001b[0m\u001b[0m\n\u001b[1;32m      6\u001b[0m \u001b[0my_pred\u001b[0m \u001b[0;34m=\u001b[0m \u001b[0ml\u001b[0m\u001b[0;34m.\u001b[0m\u001b[0mpredict_proba\u001b[0m\u001b[0;34m(\u001b[0m\u001b[0mX_test_one_hot\u001b[0m\u001b[0;34m)\u001b[0m\u001b[0;34m\u001b[0m\u001b[0m\n\u001b[0;32m----> 7\u001b[0;31m \u001b[0mprint\u001b[0m\u001b[0;34m(\u001b[0m\u001b[0mlog_loss\u001b[0m\u001b[0;34m(\u001b[0m\u001b[0my_test\u001b[0m\u001b[0;34m,\u001b[0m \u001b[0my_pred\u001b[0m\u001b[0;34m)\u001b[0m\u001b[0;34m)\u001b[0m\u001b[0;34m\u001b[0m\u001b[0m\n\u001b[0m\u001b[1;32m      8\u001b[0m \u001b[0mr\u001b[0m\u001b[0;34m.\u001b[0m\u001b[0mfit\u001b[0m\u001b[0;34m(\u001b[0m\u001b[0mX_train_one_hot\u001b[0m\u001b[0;34m,\u001b[0m \u001b[0my_train\u001b[0m\u001b[0;34m)\u001b[0m\u001b[0;34m\u001b[0m\u001b[0m\n\u001b[1;32m      9\u001b[0m \u001b[0my_pred\u001b[0m \u001b[0;34m=\u001b[0m \u001b[0mr\u001b[0m\u001b[0;34m.\u001b[0m\u001b[0mpredict_proba\u001b[0m\u001b[0;34m(\u001b[0m\u001b[0mX_test_one_hot\u001b[0m\u001b[0;34m)\u001b[0m\u001b[0;34m\u001b[0m\u001b[0m\n",
      "\u001b[0;32m~/.virtualenvs/ds/lib/python3.6/site-packages/sklearn/metrics/classification.py\u001b[0m in \u001b[0;36mlog_loss\u001b[0;34m(y_true, y_pred, eps, normalize, sample_weight, labels)\u001b[0m\n\u001b[1;32m   1639\u001b[0m     \"\"\"\n\u001b[1;32m   1640\u001b[0m     \u001b[0my_pred\u001b[0m \u001b[0;34m=\u001b[0m \u001b[0mcheck_array\u001b[0m\u001b[0;34m(\u001b[0m\u001b[0my_pred\u001b[0m\u001b[0;34m,\u001b[0m \u001b[0mensure_2d\u001b[0m\u001b[0;34m=\u001b[0m\u001b[0;32mFalse\u001b[0m\u001b[0;34m)\u001b[0m\u001b[0;34m\u001b[0m\u001b[0m\n\u001b[0;32m-> 1641\u001b[0;31m     \u001b[0mcheck_consistent_length\u001b[0m\u001b[0;34m(\u001b[0m\u001b[0my_pred\u001b[0m\u001b[0;34m,\u001b[0m \u001b[0my_true\u001b[0m\u001b[0;34m)\u001b[0m\u001b[0;34m\u001b[0m\u001b[0m\n\u001b[0m\u001b[1;32m   1642\u001b[0m \u001b[0;34m\u001b[0m\u001b[0m\n\u001b[1;32m   1643\u001b[0m     \u001b[0mlb\u001b[0m \u001b[0;34m=\u001b[0m \u001b[0mLabelBinarizer\u001b[0m\u001b[0;34m(\u001b[0m\u001b[0;34m)\u001b[0m\u001b[0;34m\u001b[0m\u001b[0m\n",
      "\u001b[0;32m~/.virtualenvs/ds/lib/python3.6/site-packages/sklearn/utils/validation.py\u001b[0m in \u001b[0;36mcheck_consistent_length\u001b[0;34m(*arrays)\u001b[0m\n\u001b[1;32m    202\u001b[0m     \u001b[0;32mif\u001b[0m \u001b[0mlen\u001b[0m\u001b[0;34m(\u001b[0m\u001b[0muniques\u001b[0m\u001b[0;34m)\u001b[0m \u001b[0;34m>\u001b[0m \u001b[0;36m1\u001b[0m\u001b[0;34m:\u001b[0m\u001b[0;34m\u001b[0m\u001b[0m\n\u001b[1;32m    203\u001b[0m         raise ValueError(\"Found input variables with inconsistent numbers of\"\n\u001b[0;32m--> 204\u001b[0;31m                          \" samples: %r\" % [int(l) for l in lengths])\n\u001b[0m\u001b[1;32m    205\u001b[0m \u001b[0;34m\u001b[0m\u001b[0m\n\u001b[1;32m    206\u001b[0m \u001b[0;34m\u001b[0m\u001b[0m\n",
      "\u001b[0;31mValueError\u001b[0m: Found input variables with inconsistent numbers of samples: [7500, 2500]"
     ]
    }
   ],
   "source": [
    "enc = OneHotEncoder(handle_unknown='ignore')\n",
    "enc.fit(X_train)\n",
    "X_train_one_hot = enc.transform(X_train)\n",
    "X_test_one_hot = enc.transform(X_train)\n",
    "l.fit(X_train_one_hot, y_train)\n",
    "y_pred = l.predict_proba(X_test_one_hot)\n",
    "print(log_loss(y_test, y_pred))\n",
    "r.fit(X_train_one_hot, y_train)\n",
    "y_pred = r.predict_proba(X_test_one_hot)\n",
    "print(log_loss(y_test, y_pred))\n",
    "print(X_train_one_hot.shape)"
   ]
  },
  {
   "cell_type": "code",
   "execution_count": null,
   "metadata": {},
   "outputs": [],
   "source": []
  },
  {
   "cell_type": "code",
   "execution_count": null,
   "metadata": {},
   "outputs": [],
   "source": []
  },
  {
   "cell_type": "code",
   "execution_count": null,
   "metadata": {},
   "outputs": [],
   "source": []
  }
 ],
 "metadata": {
  "kernelspec": {
   "display_name": "Python 3",
   "language": "python",
   "name": "python3"
  },
  "language_info": {
   "codemirror_mode": {
    "name": "ipython",
    "version": 3
   },
   "file_extension": ".py",
   "mimetype": "text/x-python",
   "name": "python",
   "nbconvert_exporter": "python",
   "pygments_lexer": "ipython3",
   "version": "3.6.5"
  }
 },
 "nbformat": 4,
 "nbformat_minor": 2
}
