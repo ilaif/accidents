{
 "cells": [
  {
   "cell_type": "code",
   "execution_count": 1,
   "metadata": {},
   "outputs": [],
   "source": [
    "%load_ext autoreload"
   ]
  },
  {
   "cell_type": "code",
   "execution_count": 2,
   "metadata": {},
   "outputs": [],
   "source": [
    "%autoreload 0\n",
    "\n",
    "import os\n",
    "import os.path\n",
    "import pandas as pd\n",
    "import numpy as np\n",
    "import datetime\n",
    "import matplotlib\n",
    "import pickle\n",
    "import json\n",
    "import googlemaps\n",
    "# Installing LightGBM on HighSierra: https://stackoverflow.com/questions/44937698/lightgbm-oserror-library-not-loaded\n",
    "import lightgbm as lgb\n",
    "import plotly\n",
    "import plotly.plotly as py\n",
    "from plotly.graph_objs import *\n",
    "import seaborn as sns\n",
    "from matplotlib import pyplot as plt\n",
    "import codecs\n",
    "import graphviz\n",
    "from multiprocessing import Pool, current_process\n",
    "\n",
    "from sklearn.metrics import accuracy_score, log_loss, mean_squared_error, confusion_matrix\n",
    "from sklearn.model_selection import train_test_split, GridSearchCV\n",
    "from sklearn.preprocessing import OneHotEncoder, StandardScaler\n",
    "from sklearn import preprocessing\n",
    "from sklearn.ensemble import RandomForestRegressor\n",
    "from sklearn.linear_model import LinearRegression\n",
    "\n",
    "%matplotlib inline\n",
    "matplotlib.rcParams['figure.figsize'] = (14.0, 7.0)\n",
    "\n",
    "%autoreload 2\n",
    "\n",
    "from feature_encrichment import basic_enrichment\n",
    "from compute_util import load_data, parallel_df, save_df, rmse, parallel_col_df"
   ]
  },
  {
   "cell_type": "markdown",
   "metadata": {},
   "source": [
    "## Global Config"
   ]
  },
  {
   "cell_type": "code",
   "execution_count": 3,
   "metadata": {},
   "outputs": [],
   "source": [
    "DATA_PATH = '/Users/ilaif/Desktop/data/avito'\n",
    "HELPER_DATA_PATH = './helper_data'"
   ]
  },
  {
   "cell_type": "markdown",
   "metadata": {},
   "source": [
    "## Load Data"
   ]
  },
  {
   "cell_type": "code",
   "execution_count": 5,
   "metadata": {},
   "outputs": [],
   "source": [
    "train, _ = load_data(DATA_PATH)"
   ]
  },
  {
   "cell_type": "markdown",
   "metadata": {},
   "source": [
    "Let's look at the raw columns we have in train.csv:"
   ]
  },
  {
   "cell_type": "code",
   "execution_count": 6,
   "metadata": {},
   "outputs": [
    {
     "data": {
      "text/plain": [
       "Index(['item_id', 'user_id', 'region', 'city', 'parent_category_name',\n",
       "       'category_name', 'param_1', 'param_2', 'param_3', 'title',\n",
       "       'description', 'price', 'item_seq_number', 'activation_date',\n",
       "       'user_type', 'image', 'image_top_1', 'deal_probability'],\n",
       "      dtype='object')"
      ]
     },
     "execution_count": 6,
     "metadata": {},
     "output_type": "execute_result"
    }
   ],
   "source": [
    "train.columns"
   ]
  },
  {
   "cell_type": "markdown",
   "metadata": {},
   "source": [
    "## Feature enrichment"
   ]
  },
  {
   "cell_type": "code",
   "execution_count": 7,
   "metadata": {},
   "outputs": [
    {
     "name": "stdout",
     "output_type": "stream",
     "text": [
      "ForkPoolWorker-1: Enriching input dataframe...\n",
      "ForkPoolWorker-1: Adding missing values as features enrichment...\n",
      "ForkPoolWorker-1: Adding datetime enrichment...\n",
      "ForkPoolWorker-1: Adding geocoding enrichment...\n",
      "ForkPoolWorker-1: Adding basic language enrichment...\n",
      "ForkPoolWorker-2: Enriching input dataframe...\n",
      "ForkPoolWorker-2: Adding missing values as features enrichment...\n",
      "ForkPoolWorker-2: Adding datetime enrichment...\n",
      "ForkPoolWorker-2: Adding geocoding enrichment...\n",
      "ForkPoolWorker-3: Enriching input dataframe...\n",
      "ForkPoolWorker-3: Adding missing values as features enrichment...\n",
      "ForkPoolWorker-3: Adding datetime enrichment...\n",
      "ForkPoolWorker-2: Adding basic language enrichment...\n",
      "ForkPoolWorker-3: Adding geocoding enrichment...\n",
      "ForkPoolWorker-3: Adding basic language enrichment...\n",
      "ForkPoolWorker-4: Enriching input dataframe...\n",
      "ForkPoolWorker-4: Adding missing values as features enrichment...\n",
      "ForkPoolWorker-4: Adding datetime enrichment...\n",
      "ForkPoolWorker-4: Adding geocoding enrichment...\n",
      "ForkPoolWorker-4: Adding basic language enrichment...\n",
      "ForkPoolWorker-5: Enriching input dataframe...\n",
      "ForkPoolWorker-5: Adding missing values as features enrichment...\n",
      "ForkPoolWorker-5: Adding datetime enrichment...\n",
      "ForkPoolWorker-5: Adding geocoding enrichment...\n",
      "ForkPoolWorker-5: Adding basic language enrichment...\n",
      "ForkPoolWorker-6: Enriching input dataframe...\n",
      "ForkPoolWorker-6: Adding missing values as features enrichment...\n",
      "ForkPoolWorker-6: Adding datetime enrichment...\n",
      "ForkPoolWorker-6: Adding geocoding enrichment...\n",
      "ForkPoolWorker-6: Adding basic language enrichment...\n",
      "ForkPoolWorker-7: Enriching input dataframe...\n",
      "ForkPoolWorker-7: Adding missing values as features enrichment...\n",
      "ForkPoolWorker-7: Adding datetime enrichment...\n",
      "ForkPoolWorker-7: Adding geocoding enrichment...\n",
      "ForkPoolWorker-7: Adding basic language enrichment...\n",
      "ForkPoolWorker-8: Enriching input dataframe...\n",
      "ForkPoolWorker-8: Adding missing values as features enrichment...\n",
      "ForkPoolWorker-8: Adding datetime enrichment...\n",
      "ForkPoolWorker-8: Adding geocoding enrichment...\n",
      "ForkPoolWorker-8: Adding basic language enrichment...\n",
      "ForkPoolWorker-1: Adding translation enrichment...\n",
      "ForkPoolWorker-1: Adding user related enrichment...\n",
      "ForkPoolWorker-1: Finished enriching.\n",
      "ForkPoolWorker-2: Adding translation enrichment...\n",
      "ForkPoolWorker-2: Adding user related enrichment...\n",
      "ForkPoolWorker-3: Adding translation enrichment...\n",
      "ForkPoolWorker-2: Finished enriching.\n",
      "ForkPoolWorker-3: Adding user related enrichment...\n",
      "ForkPoolWorker-4: Adding translation enrichment...\n",
      "ForkPoolWorker-3: Finished enriching.\n",
      "ForkPoolWorker-4: Adding user related enrichment...\n",
      "ForkPoolWorker-5: Adding translation enrichment...\n",
      "ForkPoolWorker-4: Finished enriching.\n",
      "ForkPoolWorker-5: Adding user related enrichment...\n",
      "ForkPoolWorker-5: Finished enriching.\n",
      "ForkPoolWorker-6: Adding translation enrichment...\n",
      "ForkPoolWorker-6: Adding user related enrichment...\n",
      "ForkPoolWorker-6: Finished enriching.\n",
      "ForkPoolWorker-7: Adding translation enrichment...\n",
      "ForkPoolWorker-7: Adding user related enrichment...\n",
      "ForkPoolWorker-7: Finished enriching.\n",
      "ForkPoolWorker-8: Adding translation enrichment...\n",
      "ForkPoolWorker-8: Adding user related enrichment...\n",
      "ForkPoolWorker-8: Finished enriching.\n",
      "All processes finished.\n"
     ]
    }
   ],
   "source": [
    "def parallel_func(df):\n",
    "    return basic_enrichment(df, helper_data_path=HELPER_DATA_PATH)\n",
    "train = parallel_df(train, parallel_func, num_partitions=14)\n",
    "print('All processes finished.')"
   ]
  },
  {
   "cell_type": "markdown",
   "metadata": {},
   "source": [
    "## Learning"
   ]
  },
  {
   "cell_type": "code",
   "execution_count": 8,
   "metadata": {},
   "outputs": [],
   "source": [
    "results = {}"
   ]
  },
  {
   "cell_type": "code",
   "execution_count": 9,
   "metadata": {},
   "outputs": [
    {
     "data": {
      "text/plain": [
       "Index(['item_id', 'user_id', 'region', 'city', 'parent_category_name',\n",
       "       'category_name', 'param_1', 'param_2', 'param_3', 'title',\n",
       "       'description', 'price', 'item_seq_number', 'activation_date',\n",
       "       'user_type', 'image', 'image_top_1', 'deal_probability',\n",
       "       'has_description', 'has_price', 'has_params', 'has_image', 'year',\n",
       "       'month', 'day', 'lat', 'lng', 'description_len', 'title_len',\n",
       "       'title_word_count', 'description_word_count', 'params_total_word_count',\n",
       "       'title_capital_letters_ratio', 'description_capital_letters_ratio',\n",
       "       'parent_category_name_en', 'category_name_en', 'param_1_en',\n",
       "       'param_2_en', 'param_3_en', 'user_ads_count'],\n",
       "      dtype='object')"
      ]
     },
     "execution_count": 9,
     "metadata": {},
     "output_type": "execute_result"
    }
   ],
   "source": [
    "train.columns"
   ]
  },
  {
   "cell_type": "markdown",
   "metadata": {},
   "source": [
    "#### Preparing data for Learn and Test"
   ]
  },
  {
   "cell_type": "code",
   "execution_count": 12,
   "metadata": {},
   "outputs": [],
   "source": [
    "categorical_cols = [\n",
    "    'user_id', \n",
    "    'region', \n",
    "    'city', \n",
    "    'parent_category_name', \n",
    "    'category_name', \n",
    "    'has_description',\n",
    "    'has_price',\n",
    "    'has_params',\n",
    "    'has_image',\n",
    "]\n",
    "numerical_cols = [\n",
    "    'item_seq_number', \n",
    "    'month', \n",
    "    'price',\n",
    "    'title_word_count',\n",
    "    'description_word_count',\n",
    "    'params_total_word_count',\n",
    "    'user_ads_count',\n",
    "    'title_capital_letters_ratio',\n",
    "    'description_capital_letters_ratio',\n",
    "    'image_top_1',\n",
    "]\n",
    "feature_list = categorical_cols + numerical_cols\n",
    "\n",
    "X_df = train[feature_list]\n",
    "y_df = train['deal_probability']\n",
    "train_num = X_df.shape[0]\n",
    "X = pd.DataFrame(X_df[:train_num]).fillna(0).values\n",
    "y = y_df[:train_num].values #.apply(separate_to_bins, axis=1).values\n",
    "X_train, X_test, y_train, y_test = train_test_split(X, y, test_size=0.25, random_state=42)"
   ]
  },
  {
   "cell_type": "markdown",
   "metadata": {},
   "source": [
    "#### Encoding Labels"
   ]
  },
  {
   "cell_type": "code",
   "execution_count": 13,
   "metadata": {},
   "outputs": [],
   "source": [
    "les = []\n",
    "for i in range(X.shape[1]):\n",
    "    le = preprocessing.LabelEncoder()\n",
    "    le.fit(X[:, i])\n",
    "    les.append(le)\n",
    "    X_train[:, i] = le.transform(X_train[:, i])\n",
    "    X_test[:, i] = le.transform(X_test[:, i])"
   ]
  },
  {
   "cell_type": "markdown",
   "metadata": {},
   "source": [
    "#### Naive random prediction"
   ]
  },
  {
   "cell_type": "code",
   "execution_count": 14,
   "metadata": {},
   "outputs": [
    {
     "name": "stdout",
     "output_type": "stream",
     "text": [
      "0.29465919592925616\n"
     ]
    }
   ],
   "source": [
    "y_pred = np.random.randint(1, size=y_test.shape[0])\n",
    "res = rmse(y_pred, y_test)\n",
    "print(res)\n",
    "results['naive'] = { 'rmse': res }"
   ]
  },
  {
   "cell_type": "markdown",
   "metadata": {},
   "source": [
    "#### Linear Regression"
   ]
  },
  {
   "cell_type": "code",
   "execution_count": 15,
   "metadata": {},
   "outputs": [
    {
     "name": "stderr",
     "output_type": "stream",
     "text": [
      "/Users/ilaif/.virtualenvs/ds/lib/python3.6/site-packages/scipy/linalg/basic.py:1226: RuntimeWarning:\n",
      "\n",
      "internal gelsd driver lwork query error, required iwork dimension not returned. This is likely the result of LAPACK bug 0038, fixed in LAPACK 3.2.2 (released July 21, 2010). Falling back to 'gelss' driver.\n",
      "\n"
     ]
    },
    {
     "name": "stdout",
     "output_type": "stream",
     "text": [
      "0.252108938196982\n"
     ]
    }
   ],
   "source": [
    "l = LinearRegression()\n",
    "l.fit(X_train, y_train)\n",
    "y_pred = l.predict(X_test)\n",
    "res = rmse(y_pred, y_test)\n",
    "print(res)\n",
    "results['linear_regression'] = { 'rmse': res }"
   ]
  },
  {
   "cell_type": "markdown",
   "metadata": {},
   "source": [
    "#### Random Forest Regressor"
   ]
  },
  {
   "cell_type": "code",
   "execution_count": 16,
   "metadata": {},
   "outputs": [
    {
     "name": "stdout",
     "output_type": "stream",
     "text": [
      "0.2355411760741498\n"
     ]
    }
   ],
   "source": [
    "r = RandomForestRegressor(n_estimators=25, max_depth=10, n_jobs=-1)\n",
    "r.fit(X_train, y_train)\n",
    "y_pred = r.predict(X_test)\n",
    "res = rmse(y_pred, y_test)\n",
    "print(res)\n",
    "results['random_forest_regressor'] = { 'rmse': res }"
   ]
  },
  {
   "cell_type": "markdown",
   "metadata": {},
   "source": [
    "#### One-hot encoding"
   ]
  },
  {
   "cell_type": "markdown",
   "metadata": {},
   "source": [
    "#### Linear Regression (OHE)"
   ]
  },
  {
   "cell_type": "markdown",
   "metadata": {},
   "source": [
    "#### Random Forest Regressor (OHE)"
   ]
  },
  {
   "cell_type": "code",
   "execution_count": 17,
   "metadata": {},
   "outputs": [],
   "source": [
    "def ohe():\n",
    "    enc = OneHotEncoder(handle_unknown='ignore')\n",
    "    enc.fit(X_train)\n",
    "    enc.fit(X_test)\n",
    "    X_train_one_hot = enc.transform(X_train)\n",
    "    X_test_one_hot = enc.transform(X_test)\n",
    "def lrohe():\n",
    "    l.fit(X_train_one_hot, y_train)\n",
    "    y_pred = l.predict(X_test_one_hot)\n",
    "    res = rmse(y_pred, y_test)\n",
    "    print(res)\n",
    "    results = {'linear_regression_ohe': { 'rmse': res } }\n",
    "def rfrohe():\n",
    "    r.fit(X_train_one_hot, y_train)\n",
    "    y_pred = r.predict(X_test_one_hot)\n",
    "    res = rmse(y_pred, y_test)\n",
    "    print(res)\n",
    "    results = {'random_forest_regressor_ohe': { 'rmse': res } }"
   ]
  },
  {
   "cell_type": "code",
   "execution_count": 18,
   "metadata": {},
   "outputs": [],
   "source": [
    "# ex_col = ['item_id', 'user_id','deal_probability', 'title', 'description', 'image']\n",
    "# col = [c for c in train.columns if c not in ex_col]\n",
    "\n",
    "# x1, x2, y1, y2 = model_selection.train_test_split(train[col], train.deal_probability.values, test_size=0.20, random_state=19)\n",
    "# params = {'learning_rate': 0.05, 'boosting': 'gbdt', 'objective': 'regression', 'metric': ['auc','rmse'], 'is_training_metric': True, 'seed': 19, 'num_leaves': 64, 'feature_fraction': 0.9, 'bagging_fraction': 0.8, 'bagging_freq': 5}\n",
    "# model2 = lgb.train(params, lgb.Dataset(x1, label=y1), 3000, lgb.Dataset(x2, label=y2), verbose_eval=200, early_stopping_rounds=100)\n",
    "# test['deal_probability'] = model2.predict(test[col], num_iteration=model2.best_iteration)\n",
    "# test['deal_probability'] = test['deal_probability'].clip(0., 1.)\n",
    "# test[['item_id','deal_probability']].to_csv('submission.csv', index=False)"
   ]
  },
  {
   "cell_type": "markdown",
   "metadata": {},
   "source": [
    "#### LightGBM"
   ]
  },
  {
   "cell_type": "markdown",
   "metadata": {},
   "source": [
    "* https://github.com/Microsoft/LightGBM/tree/master/examples/python-guide\n",
    "* https://medium.com/@pushkarmandot/https-medium-com-pushkarmandot-what-is-lightgbm-how-to-implement-it-how-to-fine-tune-the-parameters-60347819b7fc"
   ]
  },
  {
   "cell_type": "code",
   "execution_count": 19,
   "metadata": {},
   "outputs": [],
   "source": [
    "# TODO: Fitting features\n",
    "# sc = StandardScaler()\n",
    "# X_train = sc.fit_transform(X_train)\n",
    "# X_test = sc.transform(X_test)"
   ]
  },
  {
   "cell_type": "code",
   "execution_count": 20,
   "metadata": {},
   "outputs": [],
   "source": [
    "def categorical_indices(df, categorical_cols):\n",
    "    return [i for i, col in enumerate(df.columns) if col in categorical_cols]\n",
    "\n",
    "categorical_features = categorical_indices(X_df, categorical_cols)\n",
    "# categorical_feature=categorical_features\n",
    "lgb_train = lgb.Dataset(X_train, \n",
    "                      label=y_train)\n",
    "lgb_test = lgb.Dataset(X_test, y_test, reference=lgb_train)\n",
    "\n",
    "params = {\n",
    "    'learning_rate': 0.05,\n",
    "    'boosting_type': 'gbdt',\n",
    "    'objective': 'regression',\n",
    "    'metric': 'rmse',\n",
    "    'sub_feature': 0.5,\n",
    "    'min_data': 50,\n",
    "    #'max_depth': 10,\n",
    "    'max_depth' : -1,\n",
    "    'is_training_metric': True, \n",
    "    'seed': 19, \n",
    "    'num_leaves': 64, \n",
    "    'feature_fraction': 0.9, \n",
    "    'bagging_fraction': 0.8, \n",
    "    'bagging_freq': 5,\n",
    "    'verbose': 0,\n",
    "    \n",
    "    'nthread': 7,\n",
    "    'max_bin': 512, \n",
    "    'subsample_for_bin': 200,\n",
    "    'subsample': 1, \n",
    "    'subsample_freq': 1, \n",
    "    'colsample_bytree': 0.8, \n",
    "    'reg_alpha': 5, \n",
    "    'reg_lambda': 10,\n",
    "    'min_split_gain': 0.5, \n",
    "    'min_child_weight': 1, \n",
    "    'min_child_samples': 5, \n",
    "    'scale_pos_weight': 1,    \n",
    "}"
   ]
  },
  {
   "cell_type": "code",
   "execution_count": 21,
   "metadata": {},
   "outputs": [],
   "source": [
    "def train_lgb(my_params, my_lgb_train, my_lgb_test):\n",
    "    evals_result = {}\n",
    "\n",
    "    clf = lgb.train(my_params, \n",
    "                my_lgb_train, \n",
    "                num_boost_round=100,\n",
    "                valid_sets=[my_lgb_train, my_lgb_test],\n",
    "                feature_name=feature_list,\n",
    "                categorical_feature=categorical_features,\n",
    "                evals_result=evals_result,\n",
    "                verbose_eval=10)\n",
    "    \n",
    "    return clf, evals_result"
   ]
  },
  {
   "cell_type": "code",
   "execution_count": 22,
   "metadata": {},
   "outputs": [],
   "source": [
    "def test_lgb(clf, X_test, y_test):\n",
    "    y_pred = clf.predict(X_test)\n",
    "    res = rmse(y_pred, y_test)\n",
    "    print(res)\n",
    "    return res"
   ]
  },
  {
   "cell_type": "code",
   "execution_count": 26,
   "metadata": {},
   "outputs": [
    {
     "name": "stdout",
     "output_type": "stream",
     "text": [
      "[10]\ttraining's rmse: 0.245616\tvalid_1's rmse: 0.245324\n",
      "[20]\ttraining's rmse: 0.239455\tvalid_1's rmse: 0.239162\n",
      "[30]\ttraining's rmse: 0.236705\tvalid_1's rmse: 0.236434\n",
      "[40]\ttraining's rmse: 0.235181\tvalid_1's rmse: 0.234964\n",
      "[50]\ttraining's rmse: 0.234268\tvalid_1's rmse: 0.234094\n",
      "[60]\ttraining's rmse: 0.233573\tvalid_1's rmse: 0.23346\n",
      "[70]\ttraining's rmse: 0.233172\tvalid_1's rmse: 0.233115\n",
      "[80]\ttraining's rmse: 0.232848\tvalid_1's rmse: 0.232839\n",
      "[90]\ttraining's rmse: 0.232567\tvalid_1's rmse: 0.232611\n",
      "[100]\ttraining's rmse: 0.232276\tvalid_1's rmse: 0.232384\n"
     ]
    }
   ],
   "source": [
    "clf, evals_result = train_lgb(params, lgb_train, lgb_test)"
   ]
  },
  {
   "cell_type": "code",
   "execution_count": 27,
   "metadata": {},
   "outputs": [
    {
     "name": "stdout",
     "output_type": "stream",
     "text": [
      "0.23238366019350354\n"
     ]
    }
   ],
   "source": [
    "results['lgbm'] = { 'rmse': test_lgb(clf, X_test, y_test) }"
   ]
  },
  {
   "cell_type": "code",
   "execution_count": 28,
   "metadata": {},
   "outputs": [
    {
     "name": "stdout",
     "output_type": "stream",
     "text": [
      "{\n",
      "  \"naive\": {\n",
      "    \"rmse\": 0.29465919592925616\n",
      "  },\n",
      "  \"linear_regression\": {\n",
      "    \"rmse\": 0.252108938196982\n",
      "  },\n",
      "  \"random_forest_regressor\": {\n",
      "    \"rmse\": 0.2355411760741498\n",
      "  },\n",
      "  \"lgbm\": {\n",
      "    \"rmse\": 0.23238366019350354\n",
      "  }\n",
      "}\n"
     ]
    }
   ],
   "source": [
    "print(json.dumps(results, indent=2))"
   ]
  },
  {
   "cell_type": "code",
   "execution_count": 29,
   "metadata": {},
   "outputs": [],
   "source": [
    "def analyze_lgbm_result():\n",
    "    print('Plot metrics during training...')\n",
    "    ax = lgb.plot_metric(evals_result, metric='rmse')\n",
    "    plt.show()\n",
    "\n",
    "    print('Plot feature importances...')\n",
    "    ax = lgb.plot_importance(clf, max_num_features=10)\n",
    "    plt.show()\n",
    "\n",
    "    print('Plot 84th tree...')  # one tree use categorical feature to split\n",
    "    ax = lgb.plot_tree(clf, tree_index=83, figsize=(20, 8), show_info=['split_gain'])\n",
    "    plt.show()\n",
    "\n",
    "    print('Plot 84th tree with graphviz...')\n",
    "    graph = lgb.create_tree_digraph(clf, tree_index=83, name='Tree84')\n",
    "    graph.render(view=True)"
   ]
  },
  {
   "cell_type": "code",
   "execution_count": 30,
   "metadata": {},
   "outputs": [
    {
     "name": "stdout",
     "output_type": "stream",
     "text": [
      "Plot metrics during training...\n"
     ]
    },
    {
     "data": {
      "image/png": "[encoded data removed]",
      "text/plain": [
       "<Figure size 432x288 with 1 Axes>"
      ]
     },
     "metadata": {},
     "output_type": "display_data"
    },
    {
     "name": "stdout",
     "output_type": "stream",
     "text": [
      "Plot feature importances...\n"
     ]
    },
    {
     "data": {
      "image/png": "[encoded data removed]",
      "text/plain": [
       "<Figure size 432x288 with 1 Axes>"
      ]
     },
     "metadata": {},
     "output_type": "display_data"
    },
    {
     "name": "stdout",
     "output_type": "stream",
     "text": [
      "Plot 84th tree...\n"
     ]
    },
    {
     "data": {
      "image/png": "[encoded data removed]",
      "text/plain": [
       "<Figure size 1440x576 with 1 Axes>"
      ]
     },
     "metadata": {},
     "output_type": "display_data"
    },
    {
     "name": "stdout",
     "output_type": "stream",
     "text": [
      "Plot 84th tree with graphviz...\n"
     ]
    }
   ],
   "source": [
    "analyze_lgbm_result()"
   ]
  },
  {
   "cell_type": "markdown",
   "metadata": {},
   "source": [
    "* TODO: Balancing data: https://www.kaggle.com/pranav84/lightgbm-fixing-unbalanced-data-lb-0-9680/code\n",
    "\n",
    "https://www.kaggle.com/garethjns/microsoft-lightgbm-with-parameter-tuning-0-823"
   ]
  },
  {
   "cell_type": "code",
   "execution_count": 31,
   "metadata": {},
   "outputs": [],
   "source": [
    "# Create parameters to search\n",
    "grid_params = {\n",
    "    'learning_rate': [0.005],\n",
    "    'n_estimators': [8,16,24],\n",
    "    'num_leaves': [6,8,12,16],\n",
    "    'boosting_type' : ['gbdt'],\n",
    "    'objective' : ['regression'],\n",
    "    'random_state' : [501], # Updated from 'seed'\n",
    "    'colsample_bytree' : [0.64, 0.65, 0.66],\n",
    "    'subsample' : [0.7,0.75],\n",
    "    'reg_alpha' : [1,1.2],\n",
    "    'reg_lambda' : [1,1.2,1.4],\n",
    "}"
   ]
  },
  {
   "cell_type": "code",
   "execution_count": null,
   "metadata": {},
   "outputs": [],
   "source": [
    "def hyperparam_tuner(grid_params, X_train, X_test):\n",
    "    # Create classifier to use. Note that parameters have to be input manually, not as a dict!\n",
    "    mdl = lgb.LGBMRegressor(\n",
    "        boosting_type= 'gbdt', \n",
    "        objective = 'regression', \n",
    "        n_jobs = 1, # Updated from 'nthread' \n",
    "        silent = False,\n",
    "        max_depth = params['max_depth'],\n",
    "        max_bin = params['max_bin'], \n",
    "        subsample_for_bin = params['subsample_for_bin'],\n",
    "        subsample = params['subsample'], \n",
    "        subsample_freq = params['subsample_freq'], \n",
    "        min_split_gain = params['min_split_gain'], \n",
    "        min_child_weight = params['min_child_weight'], \n",
    "        min_child_samples = params['min_child_samples'], \n",
    "        scale_pos_weight = params['scale_pos_weight']\n",
    "    )\n",
    "\n",
    "    # To view the default model params:\n",
    "    mdl.get_params().keys()\n",
    "\n",
    "    # Create the grid\n",
    "    grid = GridSearchCV(mdl, gridParams, verbose=1, cv=4, n_jobs=-1)\n",
    "    # Run the grid\n",
    "    grid.fit(X_train, y_train)\n",
    "\n",
    "    # Print the best parameters found\n",
    "    print(grid.best_params_)\n",
    "    print(grid.best_score_\n",
    "          \n",
    "    return grid.best_params_"
   ]
  },
  {
   "cell_type": "code",
   "execution_count": null,
   "metadata": {},
   "outputs": [],
   "source": [
    "# best_params = hyperparam_tuner(grid_params, X_train, X_test)\n",
    "# tuned_params = params.copy()\n",
    "# tuned_params.update(best_params)"
   ]
  },
  {
   "cell_type": "code",
   "execution_count": null,
   "metadata": {},
   "outputs": [],
   "source": [
    "# clf, tuned_evals_result = train_lgb(tuned_params, lgb_train, lgb_test)"
   ]
  },
  {
   "cell_type": "code",
   "execution_count": null,
   "metadata": {},
   "outputs": [],
   "source": []
  },
  {
   "cell_type": "code",
   "execution_count": null,
   "metadata": {},
   "outputs": [],
   "source": []
  }
 ],
 "metadata": {
  "kernelspec": {
   "display_name": "Python 3",
   "language": "python",
   "name": "python3"
  },
  "language_info": {
   "codemirror_mode": {
    "name": "ipython",
    "version": 3
   },
   "file_extension": ".py",
   "mimetype": "text/x-python",
   "name": "python",
   "nbconvert_exporter": "python",
   "pygments_lexer": "ipython3",
   "version": "3.6.5"
  }
 },
 "nbformat": 4,
 "nbformat_minor": 2
}
